{
 "cells": [
  {
   "cell_type": "code",
   "execution_count": 1,
   "metadata": {},
   "outputs": [],
   "source": [
    "import pandas as pd\n",
    "\n",
    "class player:\n",
    "    def __init__(self, name, rating):\n",
    "        self.name = name\n",
    "        self.rating = rating\n",
    "    def last_name(self):\n",
    "        return self.name.split(' ')[-1]\n",
    "    def first_name(self):\n",
    "        return self.name.split(' ')[:-1]"
   ]
  },
  {
   "cell_type": "code",
   "execution_count": 2,
   "metadata": {},
   "outputs": [],
   "source": [
    "def points_for_game(A, B, win):\n",
    "    points_for_player_a = 0 \n",
    "    dif_points = abs(A.rating - B.rating)\n",
    "    if A.rating >= B.rating and win:\n",
    "        if dif_points <= 12:\n",
    "            points_for_player_a += 8 \n",
    "        elif dif_points <= 37:\n",
    "            points_for_player_a += 7 \n",
    "        elif dif_points <= 62:\n",
    "            points_for_player_a += 6 \n",
    "        elif dif_points <= 87:\n",
    "            points_for_player_a += 5 \n",
    "        elif dif_points <= 112:\n",
    "            points_for_player_a += 4 \n",
    "        elif dif_points <= 137:\n",
    "            points_for_player_a += 3 \n",
    "        elif dif_points <= 162:\n",
    "            points_for_player_a += 2 \n",
    "        elif dif_points <= 187:\n",
    "            points_for_player_a += 2 \n",
    "        elif dif_points <= 212:\n",
    "            points_for_player_a += 1 \n",
    "        elif dif_points <= 237:\n",
    "            points_for_player_a += 1 \n",
    "        else:\n",
    "            points_for_player_a += 0                       \n",
    "    elif A.rating >= B.rating and not win: \n",
    "        if dif_points <= 12:\n",
    "            points_for_player_a -= 8 \n",
    "        elif dif_points <= 37:\n",
    "            points_for_player_a -= 10 \n",
    "        elif dif_points <= 62:\n",
    "            points_for_player_a -= 13\n",
    "        elif dif_points <= 87:\n",
    "            points_for_player_a -= 16\n",
    "        elif dif_points <= 112:\n",
    "            points_for_player_a -= 20 \n",
    "        elif dif_points <= 137:\n",
    "            points_for_player_a -= 25 \n",
    "        elif dif_points <= 162:\n",
    "            points_for_player_a -= 30 \n",
    "        elif dif_points <= 187:\n",
    "            points_for_player_a -= 35 \n",
    "        elif dif_points <= 212:\n",
    "            points_for_player_a -= 40 \n",
    "        elif dif_points <= 237:\n",
    "            points_for_player_a -= 45 \n",
    "        else:\n",
    "            points_for_player_a -= 50          \n",
    "    elif A.rating < B.rating and not win: \n",
    "        if dif_points <= 12:\n",
    "            points_for_player_a -= 8 \n",
    "        elif dif_points <= 37:\n",
    "            points_for_player_a -= 7 \n",
    "        elif dif_points <= 62:\n",
    "            points_for_player_a -= 6\n",
    "        elif dif_points <= 87:\n",
    "            points_for_player_a -= 5\n",
    "        elif dif_points <= 112:\n",
    "            points_for_player_a -= 4 \n",
    "        elif dif_points <= 137:\n",
    "            points_for_player_a -= 3 \n",
    "        elif dif_points <= 162:\n",
    "            points_for_player_a -= 2 \n",
    "        elif dif_points <= 187:\n",
    "            points_for_player_a -= 2 \n",
    "        elif dif_points <= 212:\n",
    "            points_for_player_a -= 1 \n",
    "        elif dif_points <= 237:\n",
    "            points_for_player_a -= 1 \n",
    "        else:\n",
    "            points_for_player_a -= 0            \n",
    "    elif A.rating < B.rating and win: \n",
    "        if dif_points <= 12:\n",
    "            points_for_player_a += 8 \n",
    "        elif dif_points <= 37:\n",
    "            points_for_player_a += 10 \n",
    "        elif dif_points <= 62:\n",
    "            points_for_player_a += 13\n",
    "        elif dif_points <= 87:\n",
    "            points_for_player_a += 16\n",
    "        elif dif_points <= 112:\n",
    "            points_for_player_a += 20 \n",
    "        elif dif_points <= 137:\n",
    "            points_for_player_a += 25 \n",
    "        elif dif_points <= 162:\n",
    "            points_for_player_a += 30 \n",
    "        elif dif_points <= 187:\n",
    "            points_for_player_a += 35 \n",
    "        elif dif_points <= 212:\n",
    "            points_for_player_a += 40 \n",
    "        elif dif_points <= 237:\n",
    "            points_for_player_a += 45 \n",
    "        else:\n",
    "            points_for_player_a += 50       \n",
    "    else:\n",
    "        print(\"such case is not valid: \", \n",
    "              A.name, A.rating, B.name, B.rating, dif_points, points_for_player_a)\n",
    "    return points_for_player_a"
   ]
  },
  {
   "cell_type": "code",
   "execution_count": 3,
   "metadata": {},
   "outputs": [],
   "source": [
    "def points_for_games(A, df_w_l_score):\n",
    "    '''points gain for a set of games results in a dataframe for player A'''\n",
    "    points_to_add = 0 \n",
    "    for index, row in df_w_l_score.iterrows():\n",
    "        name = row['firstname'] + ' ' + row['lastname']\n",
    "        rating = row['rating']\n",
    "        winorlose = row['winorlose'].strip(' ').lower()\n",
    "        B = player(name, rating)\n",
    "        if winorlose == 'w':\n",
    "            points_to_add += points_for_game(A, B, True)\n",
    "        elif winorlose == 'l':\n",
    "            points_to_add += points_for_game(A, B, False)\n",
    "    return points_to_add"
   ]
  },
  {
   "cell_type": "markdown",
   "metadata": {},
   "source": [
    "## User input block "
   ]
  },
  {
   "cell_type": "code",
   "execution_count": 4,
   "metadata": {},
   "outputs": [],
   "source": [
    "'''key in player name and rating'''\n",
    "'''and provide game results file with format rating,lastname,firstname,winorlose(w/l)'''\n",
    "A = player('Kaye Chen', 1551)\n",
    "df_w_l_score = pd.read_csv('laopen.csv')\n",
    "\n",
    "# A= player('Hovik M', 1777)\n",
    "# df_w_l_score = pd.read_csv('laopen_hovik.csv')"
   ]
  },
  {
   "cell_type": "markdown",
   "metadata": {},
   "source": [
    "## output rating changes for the player"
   ]
  },
  {
   "cell_type": "code",
   "execution_count": 5,
   "metadata": {},
   "outputs": [
    {
     "name": "stdout",
     "output_type": "stream",
     "text": [
      "For Player: Kaye Chen\n",
      "Pre Tournament rating =  1551\n",
      "Net rating points gain =  142\n",
      "Net rating gain > 50, pre tournament rating needs to be adjusted! \n",
      "Adjusted rating with tier pass1 method =  1693\n",
      "Post Tournament Rating =  1723\n"
     ]
    }
   ],
   "source": [
    "print(\"For Player:\", A.name)\n",
    "print(\"Pre Tournament rating = \", A.rating)\n",
    "points_to_add = points_for_games(A, df_w_l_score)\n",
    "print(\"Net rating points gain = \", points_to_add)\n",
    "if points_to_add < 50:\n",
    "    print('Post Tournament Rating = ', points_to_add + A.rating)\n",
    "else:\n",
    "    print(\"Net rating gain > 50, pre tournament rating needs to be adjusted! \")\n",
    "    ## tier pass1 rating adjustment method, used by USTTA\n",
    "    print(\"Adjusted rating with tier pass1 method = \", A.rating + points_to_add)\n",
    "    ## tier pass2 method: NOT USED by USTTA \n",
    "    ## Average of pre-tournament rating and average of  best win and worst loss.  \n",
    "    ## e.g. int((1551+(1781+1608)/2.)/2)) \n",
    "    A_adj= player(A.name, A.rating + points_to_add)\n",
    "#     need implement adjustments for all players against. \n",
    "#     df_w_l_score = pd.read_csv('laopen_adj.csv')  ##after all the other players' rating being adjusted\n",
    "    points_to_add = points_for_games(A_adj, df_w_l_score)    \n",
    "    print('Post Tournament Rating = ', points_to_add + A_adj.rating)"
   ]
  }
 ],
 "metadata": {
  "kernelspec": {
   "display_name": "Python 3",
   "language": "python",
   "name": "python3"
  },
  "language_info": {
   "codemirror_mode": {
    "name": "ipython",
    "version": 3
   },
   "file_extension": ".py",
   "mimetype": "text/x-python",
   "name": "python",
   "nbconvert_exporter": "python",
   "pygments_lexer": "ipython3",
   "version": "3.7.1"
  }
 },
 "nbformat": 4,
 "nbformat_minor": 2
}
